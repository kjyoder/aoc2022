{
 "cells": [
  {
   "attachments": {},
   "cell_type": "markdown",
   "metadata": {},
   "source": [
    "# Day 10"
   ]
  },
  {
   "cell_type": "code",
   "execution_count": 4,
   "metadata": {},
   "outputs": [],
   "source": [
    "with open('data/10_1.dat', 'r') as f:\n",
    "    fl = f.readlines()\n",
    "fl = [f.strip('\\n') for f in fl]"
   ]
  },
  {
   "cell_type": "code",
   "execution_count": 5,
   "metadata": {},
   "outputs": [],
   "source": [
    "class CPU():\n",
    "\n",
    "    def __init__(self, cycle_start=1, register_start=1):\n",
    "        self.cycles = cycle_start\n",
    "        self.register = register_start\n",
    "        self.strengths = []\n",
    "\n",
    "    def __repr__(self):\n",
    "        s = 0\n",
    "        for v in self.strengths:\n",
    "            s += v\n",
    "        return f'CPU with {self.cycles} cycles and current register {self.register}. Signal strength={s}'\n",
    "\n",
    "    def process(self, code):\n",
    "        if code == 'noop':\n",
    "            self.cycles += 1\n",
    "            self.check_cycles()\n",
    "        else:\n",
    "            _, val = code.split(' ')\n",
    "            self.cycles += 1\n",
    "            self.check_cycles()\n",
    "            self.cycles += 1\n",
    "            self.register += int(val)\n",
    "            self.check_cycles()\n",
    "\n",
    "    def check_cycles(self):\n",
    "        #print(f'Cycle is {self.cycles} and register is {self.register}')\n",
    "        if self.cycles == 20:\n",
    "            self.strengths.append(self.cycles * self.register)\n",
    "        elif (self.cycles-20) % 40 == 0:\n",
    "            self.strengths.append(self.cycles * self.register)"
   ]
  },
  {
   "cell_type": "code",
   "execution_count": 6,
   "metadata": {},
   "outputs": [],
   "source": [
    "cpu = CPU()\n",
    "for line in fl:\n",
    "    cpu.process(line)"
   ]
  },
  {
   "cell_type": "code",
   "execution_count": 7,
   "metadata": {},
   "outputs": [
    {
     "data": {
      "text/plain": [
       "CPU with 241 cycles and current register 37. Signal strength=17020"
      ]
     },
     "execution_count": 7,
     "metadata": {},
     "output_type": "execute_result"
    }
   ],
   "source": [
    "cpu"
   ]
  },
  {
   "cell_type": "code",
   "execution_count": 23,
   "metadata": {},
   "outputs": [],
   "source": [
    "import numpy as np\n",
    "\n",
    "class CRT():\n",
    "\n",
    "    def __init__(self, cycle_start=1, register_start=1):\n",
    "        self.cycles = cycle_start\n",
    "        self.register = register_start\n",
    "        self.sprite = [self.register-1, self.register, self.register+1]\n",
    "        self.crt_beam = 0\n",
    "        self.crt_row = 0\n",
    "        self.display = np.zeros((6,40))\n",
    "        self.strengths = []\n",
    "\n",
    "    def __repr__(self):\n",
    "        s = 0\n",
    "        for v in self.strengths:\n",
    "            s += v\n",
    "        return f'CRT with {self.cycles}\\n{self.display}'\n",
    "\n",
    "    def process(self, code):\n",
    "        if code == 'noop':\n",
    "            self.check_cycles()\n",
    "            self.add_cycle()\n",
    "        else:\n",
    "            _, val = code.split(' ')\n",
    "            self.check_cycles()\n",
    "            self.add_cycle()\n",
    "            self.check_cycles()\n",
    "            self.add_cycle()\n",
    "            self.register += int(val)\n",
    "\n",
    "    def add_cycle(self):\n",
    "        self.cycles += 1\n",
    "        self.crt_beam += 1\n",
    "\n",
    "    def check_cycles(self):\n",
    "        #print(f'Cycle is {self.cycles} and register is {self.register}. CRT is a {self.crt_row}, {self.crt_beam}')\n",
    "        self.sprite = [self.register-1, self.register, self.register+1]\n",
    "        if self.crt_beam % 40 == 0 and self.cycles > 1:\n",
    "            self.crt_row += 1\n",
    "            self.crt_beam = 0\n",
    "        if self.crt_beam in self.sprite:\n",
    "            self.display[self.crt_row, self.crt_beam] = 1"
   ]
  },
  {
   "cell_type": "code",
   "execution_count": 24,
   "metadata": {},
   "outputs": [
    {
     "data": {
      "text/plain": [
       "240"
      ]
     },
     "execution_count": 24,
     "metadata": {},
     "output_type": "execute_result"
    }
   ],
   "source": [
    "6*40"
   ]
  },
  {
   "cell_type": "code",
   "execution_count": 25,
   "metadata": {},
   "outputs": [
    {
     "data": {
      "text/plain": [
       "CRT with 241\n",
       "[[1. 1. 1. 0. 0. 1. 0. 0. 0. 0. 1. 1. 1. 1. 0. 1. 1. 1. 1. 0. 1. 1. 1. 1.\n",
       "  0. 1. 0. 0. 0. 0. 0. 1. 1. 0. 0. 1. 1. 1. 1. 0.]\n",
       " [1. 0. 0. 1. 0. 1. 0. 0. 0. 0. 1. 0. 0. 0. 0. 0. 0. 0. 1. 0. 1. 0. 0. 0.\n",
       "  0. 1. 0. 0. 0. 0. 1. 0. 0. 1. 0. 1. 0. 0. 0. 0.]\n",
       " [1. 0. 0. 1. 0. 1. 0. 0. 0. 0. 1. 1. 1. 0. 0. 0. 0. 1. 0. 0. 1. 1. 1. 0.\n",
       "  0. 1. 0. 0. 0. 0. 1. 0. 0. 0. 0. 1. 1. 1. 0. 0.]\n",
       " [1. 1. 1. 0. 0. 1. 0. 0. 0. 0. 1. 0. 0. 0. 0. 0. 1. 0. 0. 0. 1. 0. 0. 0.\n",
       "  0. 1. 0. 0. 0. 0. 1. 0. 1. 1. 0. 1. 0. 0. 0. 0.]\n",
       " [1. 0. 1. 0. 0. 1. 0. 0. 0. 0. 1. 0. 0. 0. 0. 1. 0. 0. 0. 0. 1. 0. 0. 0.\n",
       "  0. 1. 0. 0. 0. 0. 1. 0. 0. 1. 0. 1. 0. 0. 0. 0.]\n",
       " [1. 0. 0. 1. 0. 1. 1. 1. 1. 0. 1. 1. 1. 1. 0. 1. 1. 1. 1. 0. 1. 0. 0. 0.\n",
       "  0. 1. 1. 1. 1. 0. 0. 1. 1. 1. 0. 1. 1. 1. 1. 0.]]"
      ]
     },
     "execution_count": 25,
     "metadata": {},
     "output_type": "execute_result"
    }
   ],
   "source": [
    "crt = CRT()\n",
    "for line in fl:\n",
    "    crt.process(line)\n",
    "crt"
   ]
  },
  {
   "cell_type": "code",
   "execution_count": 30,
   "metadata": {},
   "outputs": [
    {
     "name": "stdout",
     "output_type": "stream",
     "text": [
      "# # # . . # . . . . # # # # . # # # # . # # # # . # . . . . . # # . . # # # # .\n",
      "# . . # . # . . . . # . . . . . . . # . # . . . . # . . . . # . . # . # . . . .\n",
      "# . . # . # . . . . # # # . . . . # . . # # # . . # . . . . # . . . . # # # . .\n",
      "# # # . . # . . . . # . . . . . # . . . # . . . . # . . . . # . # # . # . . . .\n",
      "# . # . . # . . . . # . . . . # . . . . # . . . . # . . . . # . . # . # . . . .\n",
      "# . . # . # # # # . # # # # . # # # # . # . . . . # # # # . . # # # . # # # # .\n"
     ]
    }
   ],
   "source": [
    "for x in crt.display:\n",
    "    str = ['#' if v == 1 else '.' for v in x]\n",
    "    print(' '.join(str))\n"
   ]
  },
  {
   "cell_type": "code",
   "execution_count": null,
   "metadata": {},
   "outputs": [],
   "source": []
  }
 ],
 "metadata": {
  "kernelspec": {
   "display_name": "mne_p38",
   "language": "python",
   "name": "python3"
  },
  "language_info": {
   "codemirror_mode": {
    "name": "ipython",
    "version": 3
   },
   "file_extension": ".py",
   "mimetype": "text/x-python",
   "name": "python",
   "nbconvert_exporter": "python",
   "pygments_lexer": "ipython3",
   "version": "3.8.13"
  },
  "orig_nbformat": 4,
  "vscode": {
   "interpreter": {
    "hash": "5ac5f33beb1f382a088243f1aa0add63fac1d47d117f0c9a51e76c00de4a1ca5"
   }
  }
 },
 "nbformat": 4,
 "nbformat_minor": 2
}
