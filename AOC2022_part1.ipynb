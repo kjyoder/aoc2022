{
 "cells": [
  {
   "cell_type": "markdown",
   "metadata": {},
   "source": [
    "# Advent of Code 2022!"
   ]
  },
  {
   "cell_type": "code",
   "execution_count": 18,
   "metadata": {},
   "outputs": [],
   "source": [
    "# Day 1: Calorie Counting\n",
    "\n",
    "import numpy as np\n",
    "import pandas as pd\n",
    "\n",
    "# read in the file\n",
    "f = open('data/1_1.csv')\n",
    "fl = f.readlines()\n",
    "f.close()\n",
    "\n",
    "fl = [f.strip('\\n') for f in fl]\n",
    "\n",
    "# Make a running total of calories. \n",
    "# When we finish an elf, append their running total to our list\n",
    "# Elves are separated by blank lines, ('' == end of elf)\n",
    "n_elf = 0\n",
    "elf_amounts = []\n",
    "elf_tot = 0\n",
    "for f in fl:\n",
    "    if f == '':\n",
    "        n_elf += 1\n",
    "        elf_amounts.append(elf_tot)\n",
    "        elf_tot = 0\n",
    "    else:\n",
    "        elf_tot += int(f)\n",
    "# make sure the last calorie count is added\n",
    "elf_amounts.append(elf_tot)"
   ]
  },
  {
   "cell_type": "code",
   "execution_count": 19,
   "metadata": {},
   "outputs": [
    {
     "data": {
      "text/plain": [
       "68787"
      ]
     },
     "execution_count": 19,
     "metadata": {},
     "output_type": "execute_result"
    }
   ],
   "source": [
    "np.max(elf_amounts)"
   ]
  },
  {
   "cell_type": "code",
   "execution_count": 20,
   "metadata": {},
   "outputs": [
    {
     "data": {
      "text/plain": [
       "calories    198041\n",
       "dtype: int64"
      ]
     },
     "execution_count": 20,
     "metadata": {},
     "output_type": "execute_result"
    }
   ],
   "source": [
    "# Now find the sum of the top three\n",
    "\n",
    "# throw the values into a pandas DataFrame\n",
    "elfs = pd.DataFrame({'calories': elf_amounts})\n",
    "# sort by value, take the last three, and sum them up\n",
    "elfs.sort_values('calories').iloc[-3:,].sum()"
   ]
  },
  {
   "cell_type": "code",
   "execution_count": null,
   "metadata": {},
   "outputs": [],
   "source": []
  }
 ],
 "metadata": {
  "kernelspec": {
   "display_name": "Python 3.8.13 ('mne_p38')",
   "language": "python",
   "name": "python3"
  },
  "language_info": {
   "codemirror_mode": {
    "name": "ipython",
    "version": 3
   },
   "file_extension": ".py",
   "mimetype": "text/x-python",
   "name": "python",
   "nbconvert_exporter": "python",
   "pygments_lexer": "ipython3",
   "version": "3.8.13"
  },
  "orig_nbformat": 4,
  "vscode": {
   "interpreter": {
    "hash": "5ac5f33beb1f382a088243f1aa0add63fac1d47d117f0c9a51e76c00de4a1ca5"
   }
  }
 },
 "nbformat": 4,
 "nbformat_minor": 2
}
