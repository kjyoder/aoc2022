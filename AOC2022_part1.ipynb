{
 "cells": [
  {
   "cell_type": "markdown",
   "metadata": {},
   "source": [
    "# Advent of Code 2022!"
   ]
  },
  {
   "cell_type": "markdown",
   "metadata": {},
   "source": [
    "# Day 1"
   ]
  },
  {
   "cell_type": "code",
   "execution_count": 18,
   "metadata": {},
   "outputs": [],
   "source": [
    "# Day 1: Calorie Counting\n",
    "\n",
    "import numpy as np\n",
    "import pandas as pd\n",
    "\n",
    "# read in the file\n",
    "f = open('data/1_1.csv')\n",
    "fl = f.readlines()\n",
    "f.close()\n",
    "\n",
    "fl = [f.strip('\\n') for f in fl]\n",
    "\n",
    "# Make a running total of calories. \n",
    "# When we finish an elf, append their running total to our list\n",
    "# Elves are separated by blank lines, ('' == end of elf)\n",
    "n_elf = 0\n",
    "elf_amounts = []\n",
    "elf_tot = 0\n",
    "for f in fl:\n",
    "    if f == '':\n",
    "        n_elf += 1\n",
    "        elf_amounts.append(elf_tot)\n",
    "        elf_tot = 0\n",
    "    else:\n",
    "        elf_tot += int(f)\n",
    "# make sure the last calorie count is added\n",
    "elf_amounts.append(elf_tot)"
   ]
  },
  {
   "cell_type": "code",
   "execution_count": 19,
   "metadata": {},
   "outputs": [
    {
     "data": {
      "text/plain": [
       "68787"
      ]
     },
     "execution_count": 19,
     "metadata": {},
     "output_type": "execute_result"
    }
   ],
   "source": [
    "np.max(elf_amounts)"
   ]
  },
  {
   "cell_type": "code",
   "execution_count": 20,
   "metadata": {},
   "outputs": [
    {
     "data": {
      "text/plain": [
       "calories    198041\n",
       "dtype: int64"
      ]
     },
     "execution_count": 20,
     "metadata": {},
     "output_type": "execute_result"
    }
   ],
   "source": [
    "# Now find the sum of the top three\n",
    "\n",
    "# throw the values into a pandas DataFrame\n",
    "elfs = pd.DataFrame({'calories': elf_amounts})\n",
    "# sort by value, take the last three, and sum them up\n",
    "elfs.sort_values('calories').iloc[-3:,].sum()"
   ]
  },
  {
   "cell_type": "markdown",
   "metadata": {},
   "source": [
    "# Day 2"
   ]
  },
  {
   "cell_type": "code",
   "execution_count": 3,
   "metadata": {},
   "outputs": [
    {
     "data": {
      "text/html": [
       "<div>\n",
       "<style scoped>\n",
       "    .dataframe tbody tr th:only-of-type {\n",
       "        vertical-align: middle;\n",
       "    }\n",
       "\n",
       "    .dataframe tbody tr th {\n",
       "        vertical-align: top;\n",
       "    }\n",
       "\n",
       "    .dataframe thead th {\n",
       "        text-align: right;\n",
       "    }\n",
       "</style>\n",
       "<table border=\"1\" class=\"dataframe\">\n",
       "  <thead>\n",
       "    <tr style=\"text-align: right;\">\n",
       "      <th></th>\n",
       "      <th>0</th>\n",
       "      <th>1</th>\n",
       "    </tr>\n",
       "  </thead>\n",
       "  <tbody>\n",
       "    <tr>\n",
       "      <th>0</th>\n",
       "      <td>C</td>\n",
       "      <td>Z</td>\n",
       "    </tr>\n",
       "    <tr>\n",
       "      <th>1</th>\n",
       "      <td>C</td>\n",
       "      <td>Y</td>\n",
       "    </tr>\n",
       "    <tr>\n",
       "      <th>2</th>\n",
       "      <td>B</td>\n",
       "      <td>X</td>\n",
       "    </tr>\n",
       "    <tr>\n",
       "      <th>3</th>\n",
       "      <td>A</td>\n",
       "      <td>Z</td>\n",
       "    </tr>\n",
       "    <tr>\n",
       "      <th>4</th>\n",
       "      <td>C</td>\n",
       "      <td>Z</td>\n",
       "    </tr>\n",
       "    <tr>\n",
       "      <th>...</th>\n",
       "      <td>...</td>\n",
       "      <td>...</td>\n",
       "    </tr>\n",
       "    <tr>\n",
       "      <th>2495</th>\n",
       "      <td>B</td>\n",
       "      <td>Z</td>\n",
       "    </tr>\n",
       "    <tr>\n",
       "      <th>2496</th>\n",
       "      <td>C</td>\n",
       "      <td>Y</td>\n",
       "    </tr>\n",
       "    <tr>\n",
       "      <th>2497</th>\n",
       "      <td>A</td>\n",
       "      <td>Z</td>\n",
       "    </tr>\n",
       "    <tr>\n",
       "      <th>2498</th>\n",
       "      <td>A</td>\n",
       "      <td>Z</td>\n",
       "    </tr>\n",
       "    <tr>\n",
       "      <th>2499</th>\n",
       "      <td>B</td>\n",
       "      <td>Y</td>\n",
       "    </tr>\n",
       "  </tbody>\n",
       "</table>\n",
       "<p>2500 rows × 2 columns</p>\n",
       "</div>"
      ],
      "text/plain": [
       "      0  1\n",
       "0     C  Z\n",
       "1     C  Y\n",
       "2     B  X\n",
       "3     A  Z\n",
       "4     C  Z\n",
       "...  .. ..\n",
       "2495  B  Z\n",
       "2496  C  Y\n",
       "2497  A  Z\n",
       "2498  A  Z\n",
       "2499  B  Y\n",
       "\n",
       "[2500 rows x 2 columns]"
      ]
     },
     "execution_count": 3,
     "metadata": {},
     "output_type": "execute_result"
    }
   ],
   "source": [
    "import numpy as np\n",
    "import pandas as pd\n",
    "\n",
    "df = pd.read_csv('data/2_1.dat', sep=' ', header=None)\n",
    "df"
   ]
  },
  {
   "cell_type": "code",
   "execution_count": 5,
   "metadata": {},
   "outputs": [
    {
     "data": {
      "text/plain": [
       "'Z'"
      ]
     },
     "execution_count": 5,
     "metadata": {},
     "output_type": "execute_result"
    }
   ],
   "source": [
    "df.iloc[0,1]"
   ]
  },
  {
   "cell_type": "code",
   "execution_count": 23,
   "metadata": {},
   "outputs": [],
   "source": [
    "def score(row):\n",
    "    if row[1] == 'X':\n",
    "        val = 1\n",
    "        if row[0] == 'C':\n",
    "            win = 6\n",
    "        elif row[0] == 'A':\n",
    "            win = 3\n",
    "        else:\n",
    "            win = 0\n",
    "    elif row[1] == 'Y':\n",
    "        val = 2\n",
    "        if row[0] == 'A':\n",
    "            win = 6\n",
    "        elif row[0] == 'B':\n",
    "            win = 3\n",
    "        else:\n",
    "            win = 0\n",
    "    if row[1] == 'Z':\n",
    "        val = 3\n",
    "        if row[0] == 'B':\n",
    "            win = 6\n",
    "        elif row[0] == 'C':\n",
    "            win = 3\n",
    "        else:\n",
    "            win = 0\n",
    "    return win + val\n",
    "\n",
    "# given A (rock), B (paper), or C (scissors)\n",
    "# return the number corresponding to the loss\n",
    "def score_loss(target):\n",
    "    if target == 'A':\n",
    "        return 3\n",
    "    elif target == 'B':\n",
    "        return 1\n",
    "    else:\n",
    "        return 2\n",
    "\n",
    "# given A (rock), B (paper), or C (scissors)\n",
    "# return the number corresponding to the win\n",
    "def score_win(target):\n",
    "    if target == 'A':\n",
    "        return 2\n",
    "    elif target == 'B':\n",
    "        return 3\n",
    "    else:\n",
    "        return 1\n",
    "\n",
    "def score2(row):\n",
    "    if row[1] == 'X':\n",
    "        win = 0\n",
    "        val = score_loss(row[0])\n",
    "    elif row[1] == 'Y':\n",
    "        win = 3\n",
    "        if row[0] == 'A':\n",
    "            val = 1\n",
    "        elif row[0] == 'B':\n",
    "            val = 2\n",
    "        else:\n",
    "            val = 3\n",
    "    else:\n",
    "        win = 6\n",
    "        val = score_win(row[0])\n",
    "    return win + val\n"
   ]
  },
  {
   "cell_type": "code",
   "execution_count": 26,
   "metadata": {},
   "outputs": [
    {
     "data": {
      "text/plain": [
       "9241"
      ]
     },
     "execution_count": 26,
     "metadata": {},
     "output_type": "execute_result"
    }
   ],
   "source": [
    "scores = []\n",
    "for row_id in range(df.shape[0]):\n",
    "    scores.append(score(df.iloc[row_id,]))\n",
    "np.sum(scores)"
   ]
  },
  {
   "cell_type": "code",
   "execution_count": 24,
   "metadata": {},
   "outputs": [
    {
     "data": {
      "text/plain": [
       "14610"
      ]
     },
     "execution_count": 24,
     "metadata": {},
     "output_type": "execute_result"
    }
   ],
   "source": [
    "scores2 = []\n",
    "for row_id in range(df.shape[0]):\n",
    "    scores2.append(score2(df.iloc[row_id,]))\n",
    "np.sum(scores2)"
   ]
  },
  {
   "cell_type": "markdown",
   "metadata": {},
   "source": [
    "# Day 3"
   ]
  },
  {
   "cell_type": "code",
   "execution_count": 63,
   "metadata": {},
   "outputs": [],
   "source": [
    "import string\n",
    "\n",
    "score_dict = dict()\n",
    "for i, letter in enumerate(string.ascii_letters):\n",
    "    score_dict[letter] = i+1\n",
    "\n",
    "# read in data\n",
    "with open('data/3_1.dat', 'r') as f:\n",
    "    fl = f.readlines()\n",
    "\n",
    "# remove newline character from end of each line\n",
    "fl = [s.strip('\\n') for s in fl]\n",
    "\n",
    "def split(x):\n",
    "    # split string in half\n",
    "    n = len(x)\n",
    "    return x[slice(0, int(n/2))], x[slice(int(n/2), n)]\n",
    "\n",
    "def get_match(l1, l2):\n",
    "    # use list intersection to find the item in both\n",
    "    return list(set(l1) & set(l2))[0]\n",
    "\n",
    "def score(x):\n",
    "    return score_dict[x]\n"
   ]
  },
  {
   "cell_type": "code",
   "execution_count": 64,
   "metadata": {},
   "outputs": [
    {
     "data": {
      "text/plain": [
       "7831"
      ]
     },
     "execution_count": 64,
     "metadata": {},
     "output_type": "execute_result"
    }
   ],
   "source": [
    "scores = 0\n",
    "for line in fl:\n",
    "    l1, l2 = split(line)\n",
    "    scores += score(get_match(l1, l2))\n",
    "scores"
   ]
  },
  {
   "cell_type": "code",
   "execution_count": 67,
   "metadata": {},
   "outputs": [
    {
     "data": {
      "text/plain": [
       "2683"
      ]
     },
     "execution_count": 67,
     "metadata": {},
     "output_type": "execute_result"
    }
   ],
   "source": [
    "# part 2, find the sum of values for items common across each group of 3 lines\n",
    "def match3(l1, l2, l3):\n",
    "    return list(set(l1) & set(l2) & set(l3))[0]\n",
    "\n",
    "scores = 0\n",
    "ii = 0\n",
    "# iterate through the list (3 at a time) and calculate the sum\n",
    "while ii < len(fl)-2:\n",
    "    l1 = fl[ii]\n",
    "    l2 = fl[ii+1]\n",
    "    l3 = fl[ii+2]\n",
    "    scores += score(match3(l1, l2, l3))\n",
    "    ii += 3 # don't forget to iterate by 3\n",
    "scores"
   ]
  },
  {
   "cell_type": "markdown",
   "metadata": {},
   "source": [
    "# Day 4"
   ]
  },
  {
   "cell_type": "code",
   "execution_count": 97,
   "metadata": {},
   "outputs": [
    {
     "data": {
      "text/html": [
       "<div>\n",
       "<style scoped>\n",
       "    .dataframe tbody tr th:only-of-type {\n",
       "        vertical-align: middle;\n",
       "    }\n",
       "\n",
       "    .dataframe tbody tr th {\n",
       "        vertical-align: top;\n",
       "    }\n",
       "\n",
       "    .dataframe thead th {\n",
       "        text-align: right;\n",
       "    }\n",
       "</style>\n",
       "<table border=\"1\" class=\"dataframe\">\n",
       "  <thead>\n",
       "    <tr style=\"text-align: right;\">\n",
       "      <th></th>\n",
       "      <th>0</th>\n",
       "      <th>1</th>\n",
       "    </tr>\n",
       "  </thead>\n",
       "  <tbody>\n",
       "    <tr>\n",
       "      <th>0</th>\n",
       "      <td>8-13</td>\n",
       "      <td>10-65</td>\n",
       "    </tr>\n",
       "    <tr>\n",
       "      <th>1</th>\n",
       "      <td>13-23</td>\n",
       "      <td>14-24</td>\n",
       "    </tr>\n",
       "    <tr>\n",
       "      <th>2</th>\n",
       "      <td>72-83</td>\n",
       "      <td>73-76</td>\n",
       "    </tr>\n",
       "    <tr>\n",
       "      <th>3</th>\n",
       "      <td>37-37</td>\n",
       "      <td>39-73</td>\n",
       "    </tr>\n",
       "    <tr>\n",
       "      <th>4</th>\n",
       "      <td>64-94</td>\n",
       "      <td>65-65</td>\n",
       "    </tr>\n",
       "    <tr>\n",
       "      <th>...</th>\n",
       "      <td>...</td>\n",
       "      <td>...</td>\n",
       "    </tr>\n",
       "    <tr>\n",
       "      <th>995</th>\n",
       "      <td>49-51</td>\n",
       "      <td>50-55</td>\n",
       "    </tr>\n",
       "    <tr>\n",
       "      <th>996</th>\n",
       "      <td>7-20</td>\n",
       "      <td>20-60</td>\n",
       "    </tr>\n",
       "    <tr>\n",
       "      <th>997</th>\n",
       "      <td>19-99</td>\n",
       "      <td>20-98</td>\n",
       "    </tr>\n",
       "    <tr>\n",
       "      <th>998</th>\n",
       "      <td>83-97</td>\n",
       "      <td>45-82</td>\n",
       "    </tr>\n",
       "    <tr>\n",
       "      <th>999</th>\n",
       "      <td>14-65</td>\n",
       "      <td>13-64</td>\n",
       "    </tr>\n",
       "  </tbody>\n",
       "</table>\n",
       "<p>1000 rows × 2 columns</p>\n",
       "</div>"
      ],
      "text/plain": [
       "         0      1\n",
       "0     8-13  10-65\n",
       "1    13-23  14-24\n",
       "2    72-83  73-76\n",
       "3    37-37  39-73\n",
       "4    64-94  65-65\n",
       "..     ...    ...\n",
       "995  49-51  50-55\n",
       "996   7-20  20-60\n",
       "997  19-99  20-98\n",
       "998  83-97  45-82\n",
       "999  14-65  13-64\n",
       "\n",
       "[1000 rows x 2 columns]"
      ]
     },
     "execution_count": 97,
     "metadata": {},
     "output_type": "execute_result"
    }
   ],
   "source": [
    "# Day 4: Camp Cleanup\n",
    "\n",
    "# There are two columns, which represent two ranges of data\n",
    "# We want to know if one range every completely encompasses\n",
    "# the other range\n",
    "#   e.g. 6-6 is consumed by 4-6\n",
    "\n",
    "# Let's use pandas and it's built in str functionality\n",
    "import pandas as pd\n",
    "\n",
    "df = pd.read_csv('data/4_1.dat', header=None)\n",
    "df"
   ]
  },
  {
   "cell_type": "code",
   "execution_count": 101,
   "metadata": {},
   "outputs": [
    {
     "data": {
      "text/html": [
       "<div>\n",
       "<style scoped>\n",
       "    .dataframe tbody tr th:only-of-type {\n",
       "        vertical-align: middle;\n",
       "    }\n",
       "\n",
       "    .dataframe tbody tr th {\n",
       "        vertical-align: top;\n",
       "    }\n",
       "\n",
       "    .dataframe thead th {\n",
       "        text-align: right;\n",
       "    }\n",
       "</style>\n",
       "<table border=\"1\" class=\"dataframe\">\n",
       "  <thead>\n",
       "    <tr style=\"text-align: right;\">\n",
       "      <th></th>\n",
       "      <th>x1</th>\n",
       "      <th>x2</th>\n",
       "      <th>y1</th>\n",
       "      <th>y2</th>\n",
       "    </tr>\n",
       "  </thead>\n",
       "  <tbody>\n",
       "    <tr>\n",
       "      <th>0</th>\n",
       "      <td>8</td>\n",
       "      <td>13</td>\n",
       "      <td>10</td>\n",
       "      <td>65</td>\n",
       "    </tr>\n",
       "    <tr>\n",
       "      <th>1</th>\n",
       "      <td>13</td>\n",
       "      <td>23</td>\n",
       "      <td>14</td>\n",
       "      <td>24</td>\n",
       "    </tr>\n",
       "    <tr>\n",
       "      <th>2</th>\n",
       "      <td>72</td>\n",
       "      <td>83</td>\n",
       "      <td>73</td>\n",
       "      <td>76</td>\n",
       "    </tr>\n",
       "    <tr>\n",
       "      <th>3</th>\n",
       "      <td>37</td>\n",
       "      <td>37</td>\n",
       "      <td>39</td>\n",
       "      <td>73</td>\n",
       "    </tr>\n",
       "    <tr>\n",
       "      <th>4</th>\n",
       "      <td>64</td>\n",
       "      <td>94</td>\n",
       "      <td>65</td>\n",
       "      <td>65</td>\n",
       "    </tr>\n",
       "    <tr>\n",
       "      <th>...</th>\n",
       "      <td>...</td>\n",
       "      <td>...</td>\n",
       "      <td>...</td>\n",
       "      <td>...</td>\n",
       "    </tr>\n",
       "    <tr>\n",
       "      <th>995</th>\n",
       "      <td>49</td>\n",
       "      <td>51</td>\n",
       "      <td>50</td>\n",
       "      <td>55</td>\n",
       "    </tr>\n",
       "    <tr>\n",
       "      <th>996</th>\n",
       "      <td>7</td>\n",
       "      <td>20</td>\n",
       "      <td>20</td>\n",
       "      <td>60</td>\n",
       "    </tr>\n",
       "    <tr>\n",
       "      <th>997</th>\n",
       "      <td>19</td>\n",
       "      <td>99</td>\n",
       "      <td>20</td>\n",
       "      <td>98</td>\n",
       "    </tr>\n",
       "    <tr>\n",
       "      <th>998</th>\n",
       "      <td>83</td>\n",
       "      <td>97</td>\n",
       "      <td>45</td>\n",
       "      <td>82</td>\n",
       "    </tr>\n",
       "    <tr>\n",
       "      <th>999</th>\n",
       "      <td>14</td>\n",
       "      <td>65</td>\n",
       "      <td>13</td>\n",
       "      <td>64</td>\n",
       "    </tr>\n",
       "  </tbody>\n",
       "</table>\n",
       "<p>1000 rows × 4 columns</p>\n",
       "</div>"
      ],
      "text/plain": [
       "     x1  x2  y1  y2\n",
       "0     8  13  10  65\n",
       "1    13  23  14  24\n",
       "2    72  83  73  76\n",
       "3    37  37  39  73\n",
       "4    64  94  65  65\n",
       "..   ..  ..  ..  ..\n",
       "995  49  51  50  55\n",
       "996   7  20  20  60\n",
       "997  19  99  20  98\n",
       "998  83  97  45  82\n",
       "999  14  65  13  64\n",
       "\n",
       "[1000 rows x 4 columns]"
      ]
     },
     "execution_count": 101,
     "metadata": {},
     "output_type": "execute_result"
    }
   ],
   "source": [
    "# pull out the start and end values, and convert to int\n",
    "d = pd.DataFrame()\n",
    "d[['x1', 'x2']] = df[0].str.split('-', expand=True)\n",
    "d[['y1', 'y2']] = df[1].str.split('-', expand=True)\n",
    "d = d.astype(int)\n",
    "d"
   ]
  },
  {
   "cell_type": "code",
   "execution_count": 118,
   "metadata": {},
   "outputs": [],
   "source": [
    "# function to check fill out the ranges and find overlap\n",
    "# later updated to specify minimum overlap required\n",
    "def check_overlap(row, min=None):\n",
    "    \"\"\"Check if ranges (row[0]-row[1]) and (row[2]-row[3])\n",
    "    overlap by at least `min` values\n",
    "    \n",
    "    If min is None, match full length of shortest range\n",
    "    \"\"\"\n",
    "    a = np.arange(row[0], row[1]+1)\n",
    "    b = np.arange(row[2], row[3]+1)\n",
    "\n",
    "    if min is None:\n",
    "        if a.shape[0] > b.shape[0]:\n",
    "            min = b.shape[0]\n",
    "        else:\n",
    "            min = a.shape[0]\n",
    "\n",
    "    m = list(set(a) & set(b))\n",
    "    if len(m) >= min:\n",
    "        return 1\n",
    "    else:\n",
    "        return 0"
   ]
  },
  {
   "cell_type": "code",
   "execution_count": 119,
   "metadata": {},
   "outputs": [
    {
     "data": {
      "text/plain": [
       "526"
      ]
     },
     "execution_count": 119,
     "metadata": {},
     "output_type": "execute_result"
    }
   ],
   "source": [
    "# iterate over rows to find complete subsets\n",
    "matches = 0\n",
    "for rid in range(d.shape[0]):\n",
    "    matches += check_overlap(d.iloc[rid,])\n",
    "matches"
   ]
  },
  {
   "cell_type": "code",
   "execution_count": 121,
   "metadata": {},
   "outputs": [
    {
     "data": {
      "text/plain": [
       "886"
      ]
     },
     "execution_count": 121,
     "metadata": {},
     "output_type": "execute_result"
    }
   ],
   "source": [
    "# iterate over rows to find any overlap\n",
    "matches = 0\n",
    "for rid in range(d.shape[0]):\n",
    "    matches += check_overlap(d.iloc[rid,], min=1)\n",
    "matches"
   ]
  },
  {
   "cell_type": "markdown",
   "metadata": {},
   "source": [
    "# Day 5: Supply Stacks"
   ]
  },
  {
   "cell_type": "code",
   "execution_count": 296,
   "metadata": {},
   "outputs": [],
   "source": [
    "def get_stacks():\n",
    "    stacks_orig = [\n",
    "        ['W', 'T', 'H', 'P', 'J', 'C', 'F'],\n",
    "        ['H', 'B','J', 'Z', 'F', 'V', 'R', 'G'],\n",
    "        ['R', 'T', 'P', 'H'],\n",
    "        ['T', 'H', 'P', 'N', 'S', 'Z'],\n",
    "        ['D', 'C', 'J', 'H', 'Z', 'F', 'V', 'N'],\n",
    "        ['Z', 'D', 'W', 'F', 'G', 'M', 'P'],\n",
    "        ['P', 'D', 'J', 'S', 'W', 'Z', 'V', 'M'],\n",
    "        ['S', 'D', 'N'],\n",
    "        ['M', 'F', 'S', 'Z', 'D']\n",
    "    ]\n",
    "    for stack in stacks_orig:\n",
    "        stack.reverse()\n",
    "    return stacks_orig"
   ]
  },
  {
   "cell_type": "code",
   "execution_count": 302,
   "metadata": {},
   "outputs": [],
   "source": [
    "def move(n, from_, to_, stacks):\n",
    "    for ii in range(n):\n",
    "        crate = stacks[from_].pop()\n",
    "        stacks[to_].append(crate)\n",
    "    return stacks\n",
    "\n",
    "def multi_move(n, from_, to_, stacks2, debug=False):\n",
    "    crates = []\n",
    "    for ii in range(n):\n",
    "        crates.append(stacks2[from_].pop())\n",
    "\n",
    "    while len(crates) > 0:\n",
    "        stacks2[to_].append(crates.pop())\n",
    "    return stacks2\n",
    "\n"
   ]
  },
  {
   "cell_type": "code",
   "execution_count": 266,
   "metadata": {},
   "outputs": [
    {
     "data": {
      "text/plain": [
       "[['move', '2', 'from', '8', 'to', '2'],\n",
       " ['move', '3', 'from', '9', 'to', '2'],\n",
       " ['move', '1', 'from', '3', 'to', '8']]"
      ]
     },
     "execution_count": 266,
     "metadata": {},
     "output_type": "execute_result"
    }
   ],
   "source": [
    "with open('data/5_2.dat', 'r') as f:\n",
    "    instr = f.readlines()\n",
    "instructions = [c.strip('\\n').split(' ') for c in instr]\n",
    "instructions[:3]"
   ]
  },
  {
   "cell_type": "code",
   "execution_count": 287,
   "metadata": {},
   "outputs": [],
   "source": [
    "stacks = get_stacks()\n",
    "for inst in instructions:\n",
    "    _, n, _, from_, _, to_ = inst\n",
    "    stacks = move(int(n), int(from_)-1, int(to_)-1, stacks)"
   ]
  },
  {
   "cell_type": "code",
   "execution_count": 288,
   "metadata": {},
   "outputs": [
    {
     "name": "stdout",
     "output_type": "stream",
     "text": [
      "SPFMVDTZT"
     ]
    }
   ],
   "source": [
    "for stack in stacks:\n",
    "    print(stack[-1], end='')"
   ]
  },
  {
   "cell_type": "code",
   "execution_count": 305,
   "metadata": {},
   "outputs": [],
   "source": [
    "stacks2 = get_stacks()\n",
    "for inst in instructions:\n",
    "    #print(inst)\n",
    "    _, n, _, from_, _, to_ = inst\n",
    "    stacks2 = multi_move(int(n), int(from_)-1, int(to_)-1, stacks2)"
   ]
  },
  {
   "cell_type": "code",
   "execution_count": 306,
   "metadata": {},
   "outputs": [
    {
     "name": "stdout",
     "output_type": "stream",
     "text": [
      "ZFSJBPRFP"
     ]
    }
   ],
   "source": [
    "for stack in stacks2:\n",
    "    print(stack[-1], end='')"
   ]
  },
  {
   "cell_type": "markdown",
   "metadata": {},
   "source": [
    "# Day 6"
   ]
  },
  {
   "cell_type": "code",
   "execution_count": 1,
   "metadata": {},
   "outputs": [],
   "source": [
    "with open('data/6_1.dat', 'r') as f:\n",
    "    stream = f.readlines()"
   ]
  },
  {
   "cell_type": "code",
   "execution_count": 18,
   "metadata": {},
   "outputs": [
    {
     "data": {
      "text/plain": [
       "1625"
      ]
     },
     "execution_count": 18,
     "metadata": {},
     "output_type": "execute_result"
    }
   ],
   "source": [
    "buffer = []\n",
    "\n",
    "for i, s in enumerate(stream[0]):\n",
    "    buffer.insert(0, s)\n",
    "    if len(buffer) > 4:\n",
    "        buffer.pop()\n",
    "    if len(set(buffer)) == 4:\n",
    "        break\n",
    "i+1"
   ]
  },
  {
   "cell_type": "code",
   "execution_count": 21,
   "metadata": {},
   "outputs": [
    {
     "data": {
      "text/plain": [
       "2250"
      ]
     },
     "execution_count": 21,
     "metadata": {},
     "output_type": "execute_result"
    }
   ],
   "source": [
    "buffer = []\n",
    "\n",
    "for i, s in enumerate(stream[0]):\n",
    "    buffer.insert(0, s)\n",
    "    if len(buffer) > 14:\n",
    "        buffer.pop()\n",
    "    if len(set(buffer)) == 14:\n",
    "        break\n",
    "i+1"
   ]
  },
  {
   "cell_type": "code",
   "execution_count": null,
   "metadata": {},
   "outputs": [],
   "source": []
  }
 ],
 "metadata": {
  "kernelspec": {
   "display_name": "Python 3.8.13 ('mne_p38')",
   "language": "python",
   "name": "python3"
  },
  "language_info": {
   "codemirror_mode": {
    "name": "ipython",
    "version": 3
   },
   "file_extension": ".py",
   "mimetype": "text/x-python",
   "name": "python",
   "nbconvert_exporter": "python",
   "pygments_lexer": "ipython3",
   "version": "3.8.13"
  },
  "orig_nbformat": 4,
  "vscode": {
   "interpreter": {
    "hash": "5ac5f33beb1f382a088243f1aa0add63fac1d47d117f0c9a51e76c00de4a1ca5"
   }
  }
 },
 "nbformat": 4,
 "nbformat_minor": 2
}
