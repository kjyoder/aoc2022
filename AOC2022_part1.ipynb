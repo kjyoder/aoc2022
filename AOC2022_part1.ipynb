{
 "cells": [
  {
   "cell_type": "markdown",
   "metadata": {},
   "source": [
    "# Advent of Code 2022!"
   ]
  },
  {
   "cell_type": "markdown",
   "metadata": {},
   "source": [
    "# Day 1"
   ]
  },
  {
   "cell_type": "code",
   "execution_count": 18,
   "metadata": {},
   "outputs": [],
   "source": [
    "# Day 1: Calorie Counting\n",
    "\n",
    "import numpy as np\n",
    "import pandas as pd\n",
    "\n",
    "# read in the file\n",
    "f = open('data/1_1.csv')\n",
    "fl = f.readlines()\n",
    "f.close()\n",
    "\n",
    "fl = [f.strip('\\n') for f in fl]\n",
    "\n",
    "# Make a running total of calories. \n",
    "# When we finish an elf, append their running total to our list\n",
    "# Elves are separated by blank lines, ('' == end of elf)\n",
    "n_elf = 0\n",
    "elf_amounts = []\n",
    "elf_tot = 0\n",
    "for f in fl:\n",
    "    if f == '':\n",
    "        n_elf += 1\n",
    "        elf_amounts.append(elf_tot)\n",
    "        elf_tot = 0\n",
    "    else:\n",
    "        elf_tot += int(f)\n",
    "# make sure the last calorie count is added\n",
    "elf_amounts.append(elf_tot)"
   ]
  },
  {
   "cell_type": "code",
   "execution_count": 19,
   "metadata": {},
   "outputs": [
    {
     "data": {
      "text/plain": [
       "68787"
      ]
     },
     "execution_count": 19,
     "metadata": {},
     "output_type": "execute_result"
    }
   ],
   "source": [
    "np.max(elf_amounts)"
   ]
  },
  {
   "cell_type": "code",
   "execution_count": 20,
   "metadata": {},
   "outputs": [
    {
     "data": {
      "text/plain": [
       "calories    198041\n",
       "dtype: int64"
      ]
     },
     "execution_count": 20,
     "metadata": {},
     "output_type": "execute_result"
    }
   ],
   "source": [
    "# Now find the sum of the top three\n",
    "\n",
    "# throw the values into a pandas DataFrame\n",
    "elfs = pd.DataFrame({'calories': elf_amounts})\n",
    "# sort by value, take the last three, and sum them up\n",
    "elfs.sort_values('calories').iloc[-3:,].sum()"
   ]
  },
  {
   "cell_type": "markdown",
   "metadata": {},
   "source": [
    "# Day 2"
   ]
  },
  {
   "cell_type": "code",
   "execution_count": 3,
   "metadata": {},
   "outputs": [
    {
     "data": {
      "text/html": [
       "<div>\n",
       "<style scoped>\n",
       "    .dataframe tbody tr th:only-of-type {\n",
       "        vertical-align: middle;\n",
       "    }\n",
       "\n",
       "    .dataframe tbody tr th {\n",
       "        vertical-align: top;\n",
       "    }\n",
       "\n",
       "    .dataframe thead th {\n",
       "        text-align: right;\n",
       "    }\n",
       "</style>\n",
       "<table border=\"1\" class=\"dataframe\">\n",
       "  <thead>\n",
       "    <tr style=\"text-align: right;\">\n",
       "      <th></th>\n",
       "      <th>0</th>\n",
       "      <th>1</th>\n",
       "    </tr>\n",
       "  </thead>\n",
       "  <tbody>\n",
       "    <tr>\n",
       "      <th>0</th>\n",
       "      <td>C</td>\n",
       "      <td>Z</td>\n",
       "    </tr>\n",
       "    <tr>\n",
       "      <th>1</th>\n",
       "      <td>C</td>\n",
       "      <td>Y</td>\n",
       "    </tr>\n",
       "    <tr>\n",
       "      <th>2</th>\n",
       "      <td>B</td>\n",
       "      <td>X</td>\n",
       "    </tr>\n",
       "    <tr>\n",
       "      <th>3</th>\n",
       "      <td>A</td>\n",
       "      <td>Z</td>\n",
       "    </tr>\n",
       "    <tr>\n",
       "      <th>4</th>\n",
       "      <td>C</td>\n",
       "      <td>Z</td>\n",
       "    </tr>\n",
       "    <tr>\n",
       "      <th>...</th>\n",
       "      <td>...</td>\n",
       "      <td>...</td>\n",
       "    </tr>\n",
       "    <tr>\n",
       "      <th>2495</th>\n",
       "      <td>B</td>\n",
       "      <td>Z</td>\n",
       "    </tr>\n",
       "    <tr>\n",
       "      <th>2496</th>\n",
       "      <td>C</td>\n",
       "      <td>Y</td>\n",
       "    </tr>\n",
       "    <tr>\n",
       "      <th>2497</th>\n",
       "      <td>A</td>\n",
       "      <td>Z</td>\n",
       "    </tr>\n",
       "    <tr>\n",
       "      <th>2498</th>\n",
       "      <td>A</td>\n",
       "      <td>Z</td>\n",
       "    </tr>\n",
       "    <tr>\n",
       "      <th>2499</th>\n",
       "      <td>B</td>\n",
       "      <td>Y</td>\n",
       "    </tr>\n",
       "  </tbody>\n",
       "</table>\n",
       "<p>2500 rows × 2 columns</p>\n",
       "</div>"
      ],
      "text/plain": [
       "      0  1\n",
       "0     C  Z\n",
       "1     C  Y\n",
       "2     B  X\n",
       "3     A  Z\n",
       "4     C  Z\n",
       "...  .. ..\n",
       "2495  B  Z\n",
       "2496  C  Y\n",
       "2497  A  Z\n",
       "2498  A  Z\n",
       "2499  B  Y\n",
       "\n",
       "[2500 rows x 2 columns]"
      ]
     },
     "execution_count": 3,
     "metadata": {},
     "output_type": "execute_result"
    }
   ],
   "source": [
    "import numpy as np\n",
    "import pandas as pd\n",
    "\n",
    "df = pd.read_csv('data/2_1.dat', sep=' ', header=None)\n",
    "df"
   ]
  },
  {
   "cell_type": "code",
   "execution_count": 5,
   "metadata": {},
   "outputs": [
    {
     "data": {
      "text/plain": [
       "'Z'"
      ]
     },
     "execution_count": 5,
     "metadata": {},
     "output_type": "execute_result"
    }
   ],
   "source": [
    "df.iloc[0,1]"
   ]
  },
  {
   "cell_type": "code",
   "execution_count": 23,
   "metadata": {},
   "outputs": [],
   "source": [
    "def score(row):\n",
    "    if row[1] == 'X':\n",
    "        val = 1\n",
    "        if row[0] == 'C':\n",
    "            win = 6\n",
    "        elif row[0] == 'A':\n",
    "            win = 3\n",
    "        else:\n",
    "            win = 0\n",
    "    elif row[1] == 'Y':\n",
    "        val = 2\n",
    "        if row[0] == 'A':\n",
    "            win = 6\n",
    "        elif row[0] == 'B':\n",
    "            win = 3\n",
    "        else:\n",
    "            win = 0\n",
    "    if row[1] == 'Z':\n",
    "        val = 3\n",
    "        if row[0] == 'B':\n",
    "            win = 6\n",
    "        elif row[0] == 'C':\n",
    "            win = 3\n",
    "        else:\n",
    "            win = 0\n",
    "    return win + val\n",
    "\n",
    "# given A (rock), B (paper), or C (scissors)\n",
    "# return the number corresponding to the loss\n",
    "def score_loss(target):\n",
    "    if target == 'A':\n",
    "        return 3\n",
    "    elif target == 'B':\n",
    "        return 1\n",
    "    else:\n",
    "        return 2\n",
    "\n",
    "# given A (rock), B (paper), or C (scissors)\n",
    "# return the number corresponding to the win\n",
    "def score_win(target):\n",
    "    if target == 'A':\n",
    "        return 2\n",
    "    elif target == 'B':\n",
    "        return 3\n",
    "    else:\n",
    "        return 1\n",
    "\n",
    "def score2(row):\n",
    "    if row[1] == 'X':\n",
    "        win = 0\n",
    "        val = score_loss(row[0])\n",
    "    elif row[1] == 'Y':\n",
    "        win = 3\n",
    "        if row[0] == 'A':\n",
    "            val = 1\n",
    "        elif row[0] == 'B':\n",
    "            val = 2\n",
    "        else:\n",
    "            val = 3\n",
    "    else:\n",
    "        win = 6\n",
    "        val = score_win(row[0])\n",
    "    return win + val\n"
   ]
  },
  {
   "cell_type": "code",
   "execution_count": 26,
   "metadata": {},
   "outputs": [
    {
     "data": {
      "text/plain": [
       "9241"
      ]
     },
     "execution_count": 26,
     "metadata": {},
     "output_type": "execute_result"
    }
   ],
   "source": [
    "scores = []\n",
    "for row_id in range(df.shape[0]):\n",
    "    scores.append(score(df.iloc[row_id,]))\n",
    "np.sum(scores)"
   ]
  },
  {
   "cell_type": "code",
   "execution_count": 24,
   "metadata": {},
   "outputs": [
    {
     "data": {
      "text/plain": [
       "14610"
      ]
     },
     "execution_count": 24,
     "metadata": {},
     "output_type": "execute_result"
    }
   ],
   "source": [
    "scores2 = []\n",
    "for row_id in range(df.shape[0]):\n",
    "    scores2.append(score2(df.iloc[row_id,]))\n",
    "np.sum(scores2)"
   ]
  },
  {
   "cell_type": "code",
   "execution_count": null,
   "metadata": {},
   "outputs": [],
   "source": []
  }
 ],
 "metadata": {
  "kernelspec": {
   "display_name": "Python 3.8.13 ('mne_p38')",
   "language": "python",
   "name": "python3"
  },
  "language_info": {
   "codemirror_mode": {
    "name": "ipython",
    "version": 3
   },
   "file_extension": ".py",
   "mimetype": "text/x-python",
   "name": "python",
   "nbconvert_exporter": "python",
   "pygments_lexer": "ipython3",
   "version": "3.8.13"
  },
  "orig_nbformat": 4,
  "vscode": {
   "interpreter": {
    "hash": "5ac5f33beb1f382a088243f1aa0add63fac1d47d117f0c9a51e76c00de4a1ca5"
   }
  }
 },
 "nbformat": 4,
 "nbformat_minor": 2
}
