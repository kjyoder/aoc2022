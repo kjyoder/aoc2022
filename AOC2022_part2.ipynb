{
 "cells": [
  {
   "attachments": {},
   "cell_type": "markdown",
   "metadata": {},
   "source": [
    "# Day 10"
   ]
  },
  {
   "cell_type": "code",
   "execution_count": 4,
   "metadata": {},
   "outputs": [],
   "source": [
    "with open('data/10_1.dat', 'r') as f:\n",
    "    fl = f.readlines()\n",
    "fl = [f.strip('\\n') for f in fl]"
   ]
  },
  {
   "cell_type": "code",
   "execution_count": 5,
   "metadata": {},
   "outputs": [],
   "source": [
    "class CPU():\n",
    "\n",
    "    def __init__(self, cycle_start=1, register_start=1):\n",
    "        self.cycles = cycle_start\n",
    "        self.register = register_start\n",
    "        self.strengths = []\n",
    "\n",
    "    def __repr__(self):\n",
    "        s = 0\n",
    "        for v in self.strengths:\n",
    "            s += v\n",
    "        return f'CPU with {self.cycles} cycles and current register {self.register}. Signal strength={s}'\n",
    "\n",
    "    def process(self, code):\n",
    "        if code == 'noop':\n",
    "            self.cycles += 1\n",
    "            self.check_cycles()\n",
    "        else:\n",
    "            _, val = code.split(' ')\n",
    "            self.cycles += 1\n",
    "            self.check_cycles()\n",
    "            self.cycles += 1\n",
    "            self.register += int(val)\n",
    "            self.check_cycles()\n",
    "\n",
    "    def check_cycles(self):\n",
    "        #print(f'Cycle is {self.cycles} and register is {self.register}')\n",
    "        if self.cycles == 20:\n",
    "            self.strengths.append(self.cycles * self.register)\n",
    "        elif (self.cycles-20) % 40 == 0:\n",
    "            self.strengths.append(self.cycles * self.register)"
   ]
  },
  {
   "cell_type": "code",
   "execution_count": 6,
   "metadata": {},
   "outputs": [],
   "source": [
    "cpu = CPU()\n",
    "for line in fl:\n",
    "    cpu.process(line)"
   ]
  },
  {
   "cell_type": "code",
   "execution_count": 7,
   "metadata": {},
   "outputs": [
    {
     "data": {
      "text/plain": [
       "CPU with 241 cycles and current register 37. Signal strength=17020"
      ]
     },
     "execution_count": 7,
     "metadata": {},
     "output_type": "execute_result"
    }
   ],
   "source": [
    "cpu"
   ]
  },
  {
   "cell_type": "code",
   "execution_count": 23,
   "metadata": {},
   "outputs": [],
   "source": [
    "import numpy as np\n",
    "\n",
    "class CRT():\n",
    "\n",
    "    def __init__(self, cycle_start=1, register_start=1):\n",
    "        self.cycles = cycle_start\n",
    "        self.register = register_start\n",
    "        self.sprite = [self.register-1, self.register, self.register+1]\n",
    "        self.crt_beam = 0\n",
    "        self.crt_row = 0\n",
    "        self.display = np.zeros((6,40))\n",
    "        self.strengths = []\n",
    "\n",
    "    def __repr__(self):\n",
    "        s = 0\n",
    "        for v in self.strengths:\n",
    "            s += v\n",
    "        return f'CRT with {self.cycles}\\n{self.display}'\n",
    "\n",
    "    def process(self, code):\n",
    "        if code == 'noop':\n",
    "            self.check_cycles()\n",
    "            self.add_cycle()\n",
    "        else:\n",
    "            _, val = code.split(' ')\n",
    "            self.check_cycles()\n",
    "            self.add_cycle()\n",
    "            self.check_cycles()\n",
    "            self.add_cycle()\n",
    "            self.register += int(val)\n",
    "\n",
    "    def add_cycle(self):\n",
    "        self.cycles += 1\n",
    "        self.crt_beam += 1\n",
    "\n",
    "    def check_cycles(self):\n",
    "        #print(f'Cycle is {self.cycles} and register is {self.register}. CRT is a {self.crt_row}, {self.crt_beam}')\n",
    "        self.sprite = [self.register-1, self.register, self.register+1]\n",
    "        if self.crt_beam % 40 == 0 and self.cycles > 1:\n",
    "            self.crt_row += 1\n",
    "            self.crt_beam = 0\n",
    "        if self.crt_beam in self.sprite:\n",
    "            self.display[self.crt_row, self.crt_beam] = 1"
   ]
  },
  {
   "cell_type": "code",
   "execution_count": 24,
   "metadata": {},
   "outputs": [
    {
     "data": {
      "text/plain": [
       "240"
      ]
     },
     "execution_count": 24,
     "metadata": {},
     "output_type": "execute_result"
    }
   ],
   "source": [
    "6*40"
   ]
  },
  {
   "cell_type": "code",
   "execution_count": 25,
   "metadata": {},
   "outputs": [
    {
     "data": {
      "text/plain": [
       "CRT with 241\n",
       "[[1. 1. 1. 0. 0. 1. 0. 0. 0. 0. 1. 1. 1. 1. 0. 1. 1. 1. 1. 0. 1. 1. 1. 1.\n",
       "  0. 1. 0. 0. 0. 0. 0. 1. 1. 0. 0. 1. 1. 1. 1. 0.]\n",
       " [1. 0. 0. 1. 0. 1. 0. 0. 0. 0. 1. 0. 0. 0. 0. 0. 0. 0. 1. 0. 1. 0. 0. 0.\n",
       "  0. 1. 0. 0. 0. 0. 1. 0. 0. 1. 0. 1. 0. 0. 0. 0.]\n",
       " [1. 0. 0. 1. 0. 1. 0. 0. 0. 0. 1. 1. 1. 0. 0. 0. 0. 1. 0. 0. 1. 1. 1. 0.\n",
       "  0. 1. 0. 0. 0. 0. 1. 0. 0. 0. 0. 1. 1. 1. 0. 0.]\n",
       " [1. 1. 1. 0. 0. 1. 0. 0. 0. 0. 1. 0. 0. 0. 0. 0. 1. 0. 0. 0. 1. 0. 0. 0.\n",
       "  0. 1. 0. 0. 0. 0. 1. 0. 1. 1. 0. 1. 0. 0. 0. 0.]\n",
       " [1. 0. 1. 0. 0. 1. 0. 0. 0. 0. 1. 0. 0. 0. 0. 1. 0. 0. 0. 0. 1. 0. 0. 0.\n",
       "  0. 1. 0. 0. 0. 0. 1. 0. 0. 1. 0. 1. 0. 0. 0. 0.]\n",
       " [1. 0. 0. 1. 0. 1. 1. 1. 1. 0. 1. 1. 1. 1. 0. 1. 1. 1. 1. 0. 1. 0. 0. 0.\n",
       "  0. 1. 1. 1. 1. 0. 0. 1. 1. 1. 0. 1. 1. 1. 1. 0.]]"
      ]
     },
     "execution_count": 25,
     "metadata": {},
     "output_type": "execute_result"
    }
   ],
   "source": [
    "crt = CRT()\n",
    "for line in fl:\n",
    "    crt.process(line)\n",
    "crt"
   ]
  },
  {
   "cell_type": "code",
   "execution_count": 30,
   "metadata": {},
   "outputs": [
    {
     "name": "stdout",
     "output_type": "stream",
     "text": [
      "# # # . . # . . . . # # # # . # # # # . # # # # . # . . . . . # # . . # # # # .\n",
      "# . . # . # . . . . # . . . . . . . # . # . . . . # . . . . # . . # . # . . . .\n",
      "# . . # . # . . . . # # # . . . . # . . # # # . . # . . . . # . . . . # # # . .\n",
      "# # # . . # . . . . # . . . . . # . . . # . . . . # . . . . # . # # . # . . . .\n",
      "# . # . . # . . . . # . . . . # . . . . # . . . . # . . . . # . . # . # . . . .\n",
      "# . . # . # # # # . # # # # . # # # # . # . . . . # # # # . . # # # . # # # # .\n"
     ]
    }
   ],
   "source": [
    "for x in crt.display:\n",
    "    str = ['#' if v == 1 else '.' for v in x]\n",
    "    print(' '.join(str))\n"
   ]
  },
  {
   "attachments": {},
   "cell_type": "markdown",
   "metadata": {},
   "source": [
    "# Day 11"
   ]
  },
  {
   "cell_type": "code",
   "execution_count": 146,
   "metadata": {},
   "outputs": [],
   "source": [
    "# import data\n",
    "with open('data/11_1.dat', 'r') as f:\n",
    "    fl = f.readlines()\n",
    "fl = [f.strip('\\n') for f in fl]"
   ]
  },
  {
   "cell_type": "code",
   "execution_count": 147,
   "metadata": {},
   "outputs": [],
   "source": [
    "class Monkey():\n",
    "\n",
    "    def __init__(self):\n",
    "        self.items = None\n",
    "        self.rule = None\n",
    "        self.func = None\n",
    "        self.condition = None\n",
    "        self.throw_true = None\n",
    "        self.throw_false = None\n",
    "        self.examined = 0\n",
    "\n",
    "    def __repr__(self):\n",
    "        str = (f'Monkey\\nItems: {self.items}\\nOperation: {self.rule}'\n",
    "         + f'\\nTest: % {self.condition}\\n'\n",
    "         + f'True: {self.throw_true} False: {self.throw_false}'\n",
    "         + f'\\nExamined: {self.examined}')\n",
    "        return str\n",
    "\n",
    "    def test(self, item):\n",
    "        if item % self.condition == 0:\n",
    "            return self.throw_true\n",
    "        else:\n",
    "            return self.throw_false\n",
    "\n",
    "    def examine(self):\n",
    "        \"\"\"go through each item and return a dictionary\n",
    "        with targets as keys and items as values\n",
    "        \"\"\"\n",
    "        thrown = {}\n",
    "        while len(self.items) > 0:\n",
    "            self.examined += 1\n",
    "            item = self.items[0]\n",
    "            self.items = self.items[1:]\n",
    "            new = self.func(item)\n",
    "            new = int(new / 3)\n",
    "            target = self.test(new)\n",
    "            if not target in thrown:\n",
    "                thrown[target] = []\n",
    "            thrown[target].append(new)\n",
    "        return thrown"
   ]
  },
  {
   "cell_type": "code",
   "execution_count": 148,
   "metadata": {},
   "outputs": [],
   "source": [
    "monkeys = [Monkey() for ii in range(8)]\n",
    "monkey_id = 0\n",
    "for line in fl:\n",
    "    if line.startswith('Monkey'):\n",
    "        monkey_id = int(line[7])\n",
    "    elif 'Starting items' in line:\n",
    "        items = line[17:].strip(' ').split(',')\n",
    "        items = [int(i) for i in items]\n",
    "        monkeys[monkey_id].items = items\n",
    "    elif 'Operation' in line:\n",
    "        _, op = line.split('=')\n",
    "        com = 'lambda old : ' + op\n",
    "        monkeys[monkey_id].rule = com\n",
    "        monkeys[monkey_id].func = eval(com)\n",
    "    elif 'Test' in line:\n",
    "        _, val = line.split(' by ')\n",
    "        monkeys[monkey_id].condition = int(val)\n",
    "    elif 'true' in line:\n",
    "        _, val = line.split(' monkey ')\n",
    "        monkeys[monkey_id].throw_true = int(val)\n",
    "    elif 'false' in line:\n",
    "        _, val = line.split(' monkey ')\n",
    "        monkeys[monkey_id].throw_false = int(val)\n",
    "    \n"
   ]
  },
  {
   "cell_type": "code",
   "execution_count": 149,
   "metadata": {},
   "outputs": [],
   "source": [
    "for ii in range(20):\n",
    "    for monkey in monkeys:\n",
    "        res = monkey.examine()\n",
    "        for k, v in res.items():\n",
    "            monkeys[k].items.extend(v)"
   ]
  },
  {
   "cell_type": "code",
   "execution_count": 150,
   "metadata": {},
   "outputs": [
    {
     "name": "stdout",
     "output_type": "stream",
     "text": [
      "[60, 103, 108, 179, 202, 208, 255, 266]\n"
     ]
    },
    {
     "data": {
      "text/plain": [
       "67830"
      ]
     },
     "execution_count": 150,
     "metadata": {},
     "output_type": "execute_result"
    }
   ],
   "source": [
    "examined = [m.examined for m in monkeys]\n",
    "examined.sort()\n",
    "print(examined)\n",
    "examined[-2]*examined[-1]"
   ]
  },
  {
   "cell_type": "code",
   "execution_count": null,
   "metadata": {},
   "outputs": [],
   "source": [
    "max_val = 1\n",
    "for m in monkeys:\n",
    "    max_val *= m.condition"
   ]
  },
  {
   "cell_type": "code",
   "execution_count": 169,
   "metadata": {},
   "outputs": [
    {
     "data": {
      "text/plain": [
       "9699690"
      ]
     },
     "execution_count": 169,
     "metadata": {},
     "output_type": "execute_result"
    }
   ],
   "source": [
    "max_val"
   ]
  },
  {
   "cell_type": "code",
   "execution_count": 171,
   "metadata": {},
   "outputs": [],
   "source": [
    "class MonkeyCalm():\n",
    "\n",
    "    def __init__(self):\n",
    "        self.items = None\n",
    "        self.rule = None\n",
    "        self.func = None\n",
    "        self.condition = None\n",
    "        self.throw_true = None\n",
    "        self.throw_false = None\n",
    "        self.examined = 0\n",
    "\n",
    "    def __repr__(self):\n",
    "        str = (f'Monkey\\nItems: {self.items}\\nOperation: {self.rule}'\n",
    "         + f'\\nTest: % {self.condition}\\n'\n",
    "         + f'True: {self.throw_true} False: {self.throw_false}'\n",
    "         + f'\\nExamined: {self.examined}')\n",
    "        return str\n",
    "\n",
    "    def test(self, item):\n",
    "        # trim item\n",
    "        if item % self.condition == 0:\n",
    "            return self.throw_true\n",
    "        else:\n",
    "            return self.throw_false\n",
    "\n",
    "    def examine(self):\n",
    "        \"\"\"go through each item and return a dictionary\n",
    "        with targets as keys and items as values\n",
    "        \"\"\"\n",
    "        thrown = {}\n",
    "        while len(self.items) > 0:\n",
    "            self.examined += 1\n",
    "            item = self.items[0]\n",
    "            self.items = self.items[1:]\n",
    "            new = self.func(item)\n",
    "            new = new % max_val \n",
    "            target = self.test(new)\n",
    "            if not target in thrown:\n",
    "                thrown[target] = []\n",
    "            thrown[target].append(new)\n",
    "        return thrown"
   ]
  },
  {
   "cell_type": "code",
   "execution_count": 172,
   "metadata": {},
   "outputs": [],
   "source": [
    "monkeys = [MonkeyCalm() for ii in range(8)]\n",
    "monkey_id = 0\n",
    "for line in fl:\n",
    "    if line.startswith('Monkey'):\n",
    "        monkey_id = int(line[7])\n",
    "    elif 'Starting items' in line:\n",
    "        items = line[17:].strip(' ').split(',')\n",
    "        items = [int(i) for i in items]\n",
    "        monkeys[monkey_id].items = items\n",
    "    elif 'Operation' in line:\n",
    "        _, op = line.split('=')\n",
    "        com = 'lambda old : ' + op\n",
    "        monkeys[monkey_id].rule = com\n",
    "        monkeys[monkey_id].func = eval(com)\n",
    "    elif 'Test' in line:\n",
    "        _, val = line.split(' by ')\n",
    "        monkeys[monkey_id].condition = int(val)\n",
    "    elif 'true' in line:\n",
    "        _, val = line.split(' monkey ')\n",
    "        monkeys[monkey_id].throw_true = int(val)\n",
    "    elif 'false' in line:\n",
    "        _, val = line.split(' monkey ')\n",
    "        monkeys[monkey_id].throw_false = int(val)\n",
    "    \n"
   ]
  },
  {
   "cell_type": "code",
   "execution_count": 173,
   "metadata": {},
   "outputs": [
    {
     "name": "stdout",
     "output_type": "stream",
     "text": [
      "Running\n",
      "Finished iteration  0\n",
      ".........Finished iteration  1000\n",
      ".........Finished iteration  2000\n",
      ".........Finished iteration  3000\n",
      ".........Finished iteration  4000\n",
      ".........Finished iteration  5000\n",
      ".........Finished iteration  6000\n",
      ".........Finished iteration  7000\n",
      ".........Finished iteration  8000\n",
      ".........Finished iteration  9000\n",
      "........."
     ]
    }
   ],
   "source": [
    "for ii in range(10000):    \n",
    "    for monkey in monkeys:\n",
    "        res = monkey.examine()\n",
    "        for k, v in res.items():\n",
    "            monkeys[k].items.extend(v)"
   ]
  },
  {
   "cell_type": "code",
   "execution_count": 175,
   "metadata": {},
   "outputs": [
    {
     "name": "stdout",
     "output_type": "stream",
     "text": [
      "[6543, 16092, 28995, 105570, 119627, 120399, 120951, 126542]\n"
     ]
    },
    {
     "data": {
      "text/plain": [
       "15305381442"
      ]
     },
     "execution_count": 175,
     "metadata": {},
     "output_type": "execute_result"
    }
   ],
   "source": [
    "examined = [m.examined for m in monkeys]\n",
    "examined.sort()\n",
    "print(examined)\n",
    "examined[-2]*examined[-1]"
   ]
  },
  {
   "cell_type": "code",
   "execution_count": null,
   "metadata": {},
   "outputs": [],
   "source": []
  }
 ],
 "metadata": {
  "kernelspec": {
   "display_name": "mne_p38",
   "language": "python",
   "name": "python3"
  },
  "language_info": {
   "codemirror_mode": {
    "name": "ipython",
    "version": 3
   },
   "file_extension": ".py",
   "mimetype": "text/x-python",
   "name": "python",
   "nbconvert_exporter": "python",
   "pygments_lexer": "ipython3",
   "version": "3.8.13"
  },
  "orig_nbformat": 4,
  "vscode": {
   "interpreter": {
    "hash": "5ac5f33beb1f382a088243f1aa0add63fac1d47d117f0c9a51e76c00de4a1ca5"
   }
  }
 },
 "nbformat": 4,
 "nbformat_minor": 2
}
